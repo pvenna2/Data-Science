{
 "cells": [
  {
   "cell_type": "markdown",
   "id": "fd332614",
   "metadata": {},
   "source": [
    "# IDS 561 Assignment 2"
   ]
  },
  {
   "cell_type": "markdown",
   "id": "e37ea575",
   "metadata": {},
   "source": [
    "## Performing RDD Operations"
   ]
  },
  {
   "cell_type": "markdown",
   "id": "88dfbcec",
   "metadata": {},
   "source": [
    "## Starting Task 1"
   ]
  },
  {
   "cell_type": "code",
   "execution_count": 1,
   "id": "912024d6",
   "metadata": {},
   "outputs": [],
   "source": [
    "import pandas as pd"
   ]
  },
  {
   "cell_type": "code",
   "execution_count": 2,
   "id": "033e61b5",
   "metadata": {},
   "outputs": [
    {
     "name": "stdout",
     "output_type": "stream",
     "text": [
      "Task 1\n"
     ]
    }
   ],
   "source": [
    "print(\"Task 1\")\n",
    "\n",
    "##reading amazon csv file\n",
    "data = pd.read_csv(\"Amazon_Responded_Oct05.csv\" ,on_bad_lines='skip')"
   ]
  },
  {
   "cell_type": "markdown",
   "id": "c6a7172e",
   "metadata": {},
   "source": [
    "#### STEP1 : Remove the records where \"user_verified\" is \"FALSE\""
   ]
  },
  {
   "cell_type": "code",
   "execution_count": 3,
   "id": "8adfe8c8",
   "metadata": {},
   "outputs": [
    {
     "name": "stdout",
     "output_type": "stream",
     "text": [
      "values where user_verifies is true 171898\n"
     ]
    }
   ],
   "source": [
    "#reading column values from dataframe\n",
    "data = data[['id_str' , 'tweet_created_at' , 'user_verified' , 'favorite_count', 'retweet_count' ,'text_']]    \n",
    "\n",
    "# STEP1 : Remove the records where \"user_verified\" is \"FALSE\"\n",
    "data = data.loc[data['user_verified']==True]       \n",
    "\n",
    "# print total true records\n",
    "print(\"values where user_verifies is true\",len(data))\n"
   ]
  },
  {
   "cell_type": "markdown",
   "id": "6417f2ea",
   "metadata": {},
   "source": [
    "#### Step 2: group by created date, and count the number of tweets for each date"
   ]
  },
  {
   "cell_type": "code",
   "execution_count": 4,
   "id": "bbff42c9",
   "metadata": {},
   "outputs": [],
   "source": [
    "#Step 2: group by created date, and count the number of tweets for each date\n",
    "\n",
    "#converting date column to date format\n",
    "data['tweet_created_at'] = pd.to_datetime(data['tweet_created_at'])    \n",
    "\n",
    "#creating new column with date values\n",
    "data['dateCreated'] = data['tweet_created_at'].dt.date         \n",
    "\n",
    "#counting values for each day\n",
    "dataGroup = data.groupby(pd.Grouper(key = \"tweet_created_at\" , freq='D')).count()      "
   ]
  },
  {
   "cell_type": "markdown",
   "id": "68b9f1ff",
   "metadata": {},
   "source": [
    "#### Step 3 Count the word frequency of the 100 tweets and report the result"
   ]
  },
  {
   "cell_type": "code",
   "execution_count": 5,
   "id": "d66d0782",
   "metadata": {},
   "outputs": [
    {
     "name": "stdout",
     "output_type": "stream",
     "text": [
      "2017-01-03 00:00:00\n",
      "Top tweets as per crieteria are following\n",
      "@hoppo_1982 Hi, thank you for highlighting this. You can find out how to report a phising email here: https://t.co/hZCSduX4Cr. ^JJ\n",
      "@gx_b57 I'm sorry to hear of this. Please give these steps a try: https://t.co/QYP5aSJV3e. If not found in 36hrs please let us know. ^TM\n",
      "@PPramod2041984 Hi, apologies for the bad experience. Request you to return the incorrect item using the link provided above. ^SH\n",
      "@pawansbaish Hi, request you to contact our kindle support team here : https://t.co/uWN5ABCIIf and we'll be happy to help. ^SH\n",
      "@matt_linsley Please keep us posted on this and let us know if it doesn't arrive tomorrow. ^BV\n",
      "@bbyuniverseCB If the seller isn't able to help, you can see if you qualify for an A-to-z Guarantee claim here: https://t.co/nuYp2m187l. ^WJ\n",
      "@LizzieeJones Please allow some time for a reply to your email - or feel free to contact us via Chat or Phone for real time assistance ^TD\n",
      "@ChadRAllen I will send on your feedback, but for now you can use Ctrl + F to help you find the address on a desktop :) ^CD\n",
      "@ProfGambs Hi- I'm sorry for the trouble! Please try these steps: https://t.co/EvQA8bgFIZ. I hope this helps! ^WJ\n",
      "@VlSlT Sorry to hear that, contact us here: https://t.co/hApLpMlfHN and we'll look into it for you. ^AS\n",
      "@mailstosandeep Hey, glad to know your issue has been resolved. Do keep us posted for any further concerns. ^CA\n",
      "@rockerdharm Hi! We've received your details and shall be connecting with you soon. ^YP\n",
      "@sgt_winters If you'd like, you can cancel the membership following the steps here: https://t.co/grr9TF1QwC. I hope this helps! ^SB\n",
      "@AriannaDelBene Hi- Thanks so much for bringing this to our attention! I've had it reported. ^WJ\n",
      "@LisaDeee You can do so here: https://t.co/TU1r2YUf3P. Let us know if you have any other questions! ^JO\n",
      "@DanJBalkwill I'm sorry for the frustrating experience w/your order. Please keep us posted on the replacement's delivery status! ^SJ\n",
      "@darshan_h_sheth Hi! I get your concern. Kindly drop your details in the link shared earlier so that we can look into this and help you. ^HG\n",
      "@AlexisGraham99 Refunds to a credit card typically process within 3-5 business days. When was the refund requested? ^EN\n",
      "@SaifiFiroz Hey there, what is the error you getting while redeeming it? ^RW\n",
      "@SaifiFiroz Hi, that doesn't sound right. We'd like to look into this. Please report this to us, here: https://t.co/vlvfJr4nN9 ^SO\n",
      "@Chunkkyyy Couriers deliver until 21:00. If you order doesn't arrive by then please reach out to us here: https://t.co/JzP7hlA23B ^VS\n",
      "@roxsi49 Hey, please contact here for support:  https://t.co/hApLpMlfHN ^AT\n",
      "@AthenaRivera4 Feel better soon, Athena! We'd much rather be delivering fun things to you, rather than cold medicine. 😷😷 ^AM\n",
      "@dragonflyeye (2/2) To manage app alerts, open the Settings menu in the Amazon app. ^KD\n",
      "@UOduckScotty If still eligible to modify the order you may edit the payment method for your orders here: https://t.co/Y5jpI9gRhE. ^AE\n",
      "@dragonflyeye (1/2) I'm sorry for any inconvenience this has caused. You can manage text alerts here: https://t.co/w7LfYcbaPb.\n",
      "@Danadug I'm sorry for the trouble! Please contact us so we can look at the available options  for you: https://t.co/CYqkdUakWJ ^GL\n",
      "@EmmaWrafter I'm sorry to hear this. Please contact us so we may get this sorted: https://t.co/JzP7hlA23B. ^AE\n",
      "@Baileyoz Thanks for letting us know it arrived! Have a great evening. ^SJ\n",
      "@ZeSaiyan We'll certainly try to get it to you, Danny. Has the tracking updated as out for delivery here: https://t.co/Y5jpI9gRhE? ^HB\n",
      "@eva____l Hey friendly customer! 🙋 Thanks for the shoutout, we love knowing that we helped.\n",
      "@EumaeusOdyssey We're unable to see your acct.Typically, you can return kindle books select here for more info: https://t.co/vIHGDsPeUR. ^CO\n",
      "@EumaeusOdyssey Keep us posted on how it goes! We're here for you, Mark. ^HB\n",
      "@Tamarastampone We aim to deliver by the est provided at checkout: https://t.co/36dGVsR8Ph If late, contact us: https://t.co/CYqkdUakWJ ^AF\n",
      "@EumaeusOdyssey Let us know if you need anything else. We're here to help! ^AE\n",
      "@Jae_Mulaa What's the expected delivery date and order status showing here: https://t.co/Y5jpI9gRhE? ^EN\n",
      "@Adi_baddy Hey, thanks for flagging this up. We'll have it reviewed at the earliest. ^AK\n",
      "@QueenAttallah If you're waiting on an order, you can find tracking and delivery updates here: https://t.co/Y5jpI9gRhE. ^AR\n",
      "@_IzzyScott Sorry it arrived like this! If you'd like to return or exchange, you can do that here: https://t.co/ywRqdfK6Ba. ^AR\n",
      "@ronaldorlemes Is there a better way to start a new year? 😌 Happy reading! ^LG\n",
      "@thblomme I can confirm that's an Amazon site. Feel free to reach back out if you have any questions. We're here to help! ^LI\n",
      "@kindakuls We don't have access to your account through Twitter, but we can review the refund with you here: https://t.co/hApLpMlfHN^EN\n",
      "@plainbananas I'm sorry, but I don't have any further info on this. I recommend checking the website and social media for any updates. ^GL\n",
      "@ghostfacezach Sorry the case is damaged! A return/replacement can be requested: https://t.co/nxGAAlzhis. Let us know if you need help.^EP\n",
      "@U2Pride14 Thanks for your interest. You can visit https://t.co/SMLi9yxdAW for further details. Hope this helps! ^TM\n",
      "@S_Tadesse Sorry for the trouble! Have you tried unlinking/linking Spotify through the Alexa app? ^CS\n",
      "@VickyFilmyDev Hi, the scan indicates that your shipment is in transit to your destination and should arrive by the EDD promised. ^SO\n",
      "@sj_booktweeter If you aren't seeing your review on the site, we'd advise contacting here: https://t.co/hApLpMlfHN ^CJ\n",
      "@sj_booktweeter You can email via the link above and it will be forwarded to the relevant department. ^JJ\n",
      "@rwwishart You can leave your feedback about the experience here: https://t.co/SKgZKJCdNg ^AF\n",
      "@Gerzinal Paw-some! The puppy that will be enjoying it is pretty cute! Thanks for sharing with us! ^JO\n",
      "@JRC89 Our packaging team is always looking for feedback, John. Please submit the order details &amp; picture here: https://t.co/j5f0hsG7q6 ^HB\n",
      "@AmazonHelp This is becoming a joke now. I need to speak to a supervisor. Your colleagues keep trying to put me through then cutting me off\n",
      "@crashrider Hi Doug, you can arrange returns for most items online. See here for more info: https://t.co/ATNH0pOWqg ^CJ\n",
      "@darshan_h_sheth ​Hey, sorry to know you feel this way. We'd like to know what went wrong. Could you please elaborate the issue? ^AB\n",
      "@EumaeusOdyssey Thanks for letting us know it's been sorted out! Have a great night yourself 😊  ^SJ\n",
      "@AbhinavSaroj3 We encourage you to visit Amazon.in in your mobile browser where you will have access to our newest shopping(2/3)^SR\n",
      "@AbhinavSaroj3 features and customer experience. Happy shopping on https://t.co/bXF5n7SXpf  (3/3)^SR\n",
      "@AbhinavSaroj3 Hi, I understand and will be sure to pass on your feedback to the concerned department for review. ^SO\n",
      "@DurhamBelle I'm sorry, they don't have a direct number. You can contact us here for an update: https://t.co/5D5BOLXLjp. ^AR\n",
      "@mr__pandit We're delighted by your appreciation :) #StayHealthy #HappyNewYear :) ^SR\n",
      "@aboutasix Sure, you can contact here  https://t.co/JzP7hlA23B ^AT\n",
      "@AlyssaGoldman While you can't leave a product review, you can leave seller feedback about your experience here: https://t.co/HrsyfEIG2u ^AN\n",
      "@AlyssaGoldman 2/2 Was the shirt purchased from a Third-Party Seller? If so, have you contacted them: https://t.co/y3HHwiftLM? ^RA\n",
      "@jeedas Hi, at this time, we're unable to guarantee the availability of an MPOS device for card payment, for a COD order, as the 1/3 ^SH\n",
      "@AlyssaGoldman 1/2 I'm sorry you didn't receive your order. We ask that reviews are written about the quality and your experience w/an item.\n",
      "@joyfulneesh Thanks for the shout out! ^JO\n",
      "@Elidan_8 Here's now to identify if the e-mail is from Amazon and how to report it if it's not: https://t.co/Zw0REzYrZU. ^CL\n",
      "@sydneycohenour Sorry, we can't access your account via Twitter. To view your tracking info, click here: https://t.co/Y5jpI9gRhE ^JA\n",
      "@bayou Glad we were able to ship your Fitbit to you so quickly! Let us know when it arrives! ^GL\n",
      "@_dmarie99 That's not what we want to hear! When you contacted us regarding these issues, what information was provided to you? ^JA\n",
      "@AmberMullennn I'm sorry it hasn't arrived. Here are some steps that can help: https://t.co/eGp7hBhsxY. ^RM\n",
      "@darshan_h_sheth Hey! Sorry about that. Have you filled in your details as asked earlier? So that we can assist you with this. ^MM\n",
      "@brooklynnnross I'm sorry that the wrong case was sent! Was the item being fulfilled by Amazon or a third-party seller on our site? ^JO\n",
      "@AbhinavSaroj3 Thank you for your interest in the Amazon App for Windows Phone. The application is no longer available for download(1/3)^SR\n",
      "@pawansbaish Hey! Request you to contact our support teams using the link so that our Kindle teams can assist you further. ^HG\n",
      "@heypardeep We're always looking to improve. Pls share your specific feedback via this form: https://t.co/z96J1aqgy4 ^SJ\n",
      "@DishaniSen1 Aw, we're so glad you're enjoying Prime Video. Our collection keeps getting better. Stay tuned and binge-watch for more! ^SO\n",
      "@__NaijaDrew Sorry for the delay. Did we indicate a new delivery date? Pls check e-mail for any order updates. ^SJ\n",
      "@KatmCor We should have return/exchange options here: https://t.co/HbTdZ01lMB. If not, pls phone/chat here: https://t.co/hApLpM3Ejd ^SJ\n",
      "@SharryPigTails I'm truly sorry. Typically, late packages arrive the following business day, please keep us posted. ^JA\n",
      "@magsophazjon Please contact us directly in the link below so we can have a further look into this: https://t.co/JzP7hlA23B ^PK\n",
      "@magsophazjon Hey you need to download the Amazon Video app which is separate to your shopping app. ^RS\n",
      "@tomroe93 Most carriers will deliver up until 8 PM. Please keep us posted if it doesn't arrive by then. ^WJ\n",
      "@sEEntitties Thanks for bringing this to our attention. Do you have a link to this page so we can investigate the list please? ^HB\n",
      "@Chunkkyyy Is that the most recent scan on the tracking? How close is the location scan to you where it cleared customs? ^AN\n",
      "@jtreadway33488 Please let us know if it doesn't arrive by end of day tomorrow. ^CL\n",
      "Thanks @amazonIN for delivering me a receiver that stopped working the very next day. https://t.co/tYqq1Ajrzk\n",
      "@baba_Jabalpuri Hi, we regret for the inconvenience. We'll work on your feedback and we'll make sure these instances never happen. ^SR\n",
      "@baba_Jabalpuri Hi, apologies for the bad experience. We truly don't want our customers to experience this. We'll only be able 1/3 ^SH\n",
      "@baba_Jabalpuri to create a replacement if the item is in stock with the same seller. Request you to place a new order for the 2/3 ^SH\n",
      "@baba_Jabalpuri item when its in stock and we'll make sure that this isn't repeated. 3/3 ^SH\n",
      "@ThorpPerrow Awww! Happy Birthday, you don't look a day over 20 ;-) .Pass on your details here: https://t.co/g52MRb0AOt for lil surprise ^RS\n",
      "@thedexterouz Hi! We'd like to help. When you have a moment, please connect with us here:  https://t.co/vlvfJr4nN9 ^YP\n",
      "@ItsJosshA Oh no! I'm sorry! Please reach out to us so that we can look into options: https://t.co/hApLpMlfHN. ^JO\n",
      "@KStefl Sounds like you know what to add to your Halloween playlist for this year! ^BV\n",
      "@ratbones666 You so fancy!!! You already knooow!!! ^EP\n",
      "@Schoey1992 Happy Birthday, Matt! #FriendsForever #FriendshipGoals ^JO\n",
      "@ItsJosshA We always aim to deliver by the date given in your confirmation email. Have we missed that date? Any update in tracking?  ^NF\n",
      "@amazon worst shopping  experience,  no service, no substantial reply to complaints, no delivery for 1 week post guarantee date.\n"
     ]
    },
    {
     "name": "stderr",
     "output_type": "stream",
     "text": [
      "/Users/prahasith/opt/anaconda3/lib/python3.9/site-packages/pandas/core/ops/array_ops.py:73: FutureWarning: Comparison of Timestamp with datetime.date is deprecated in order to match the standard library behavior.  In a future version these will be considered non-comparable.Use 'ts == pd.Timestamp(date)' or 'ts.date() == date' instead.\n",
      "  result = libops.scalar_compare(x.ravel(), y, op)\n"
     ]
    }
   ],
   "source": [
    "#Step 3 Count the word frequency of the 100 tweets and report the result\n",
    "\n",
    "#combining data for max values of count\n",
    "maxTweet = max(dataGroup['text_'])  \n",
    "\n",
    "#getting values where date is for max date\n",
    "dateMax = dataGroup.loc[dataGroup['text_']==maxTweet].index.values  \n",
    "val = pd.to_datetime(dateMax)\n",
    "\n",
    "#Storing first value from list\n",
    "val = val[0]           \n",
    "print(val)\n",
    "data = data.loc[data['dateCreated']== val]      \n",
    "\n",
    "#counting columns for fav_count and retweet sum\n",
    "data['sumFavRe'] = data['favorite_count']+data['retweet_count']     \n",
    "\n",
    "#sorting data with respect to count \n",
    "data = data.sort_values(by=['sumFavRe']) \n",
    "\n",
    "#converting column to list form\n",
    "lst = list(data['text_'])  \n",
    "\n",
    "#getting max 100 values of text \n",
    "lst = lst[len(lst)-100:]            \n",
    "print(\"Top tweets as per crieteria are following\")\n",
    "for i in lst:\n",
    "    \n",
    "    #printing text values\n",
    "    print(i)  \n",
    "    \n",
    "#dict for counting word frequencies    \n",
    "wordFreq = {}      \n",
    "\n",
    "\n",
    "for i in lst:\n",
    "    i = i.split(\" \")\n",
    "    for j in i:\n",
    "        if j in wordFreq:\n",
    "            wordFreq[j]+=1          #if word already occured add one in frequencies\n",
    "        else:\n",
    "            wordFreq[j] = 1         #otherwise initialize wordcd  by 1\n",
    "\n",
    "outFile = open(\"freqFile.txt\" , 'w')\n",
    "\n",
    "outFile.write(\"Word\\tFrequency\")\n",
    "for i in wordFreq:\n",
    "    try:\n",
    "        \n",
    "        #printing frequencies\n",
    "        outFile.write(i+ \":\"+str(wordFreq[i])+\"\\n\")           \n",
    "    except:\n",
    "        continue\n",
    "        "
   ]
  },
  {
   "cell_type": "markdown",
   "id": "03b2df35",
   "metadata": {},
   "source": [
    "## Starting Task 2"
   ]
  },
  {
   "cell_type": "code",
   "execution_count": 6,
   "id": "94a39fd6",
   "metadata": {},
   "outputs": [
    {
     "name": "stdout",
     "output_type": "stream",
     "text": [
      "\n",
      "Task 2\n"
     ]
    }
   ],
   "source": [
    "print(\"\\nTask 2\") "
   ]
  },
  {
   "cell_type": "code",
   "execution_count": 7,
   "id": "27c6913e",
   "metadata": {},
   "outputs": [],
   "source": [
    "#opening file\n",
    "findFile = open(\"find_text.csv\")   \n",
    "idDic = {}\n",
    "header = findFile.readline()\n",
    "data = pd.read_csv(\"Amazon_Responded_Oct05.csv\" ,on_bad_lines='skip')\n",
    "\n",
    "#creating id list from data \n",
    "lst = list(data['id_str'].values)   \n",
    "\n",
    "for i in findFile:\n",
    "    \n",
    "    #splinting data from findFile\n",
    "    i = i.split(',')    \n",
    "    \n",
    "    idx = lst.index(i[0])\n",
    "    \n",
    "    #finding text values for given id\n",
    "    idDic[i[0]] = data.loc[idx]['text_']         \n",
    "    \n",
    "findFile.close()\n",
    "findFile = open(\"new_find_text.csv\" , 'w')      #writing to file \n",
    "findFile.write(header+\"\\n\")\n",
    "for i in idDic:\n",
    "    try:\n",
    "        findFile.writelines(i+\",\"+idDic[i]+\"\\n\")        #for each id writing text \n",
    "    except:\n",
    "        continue   \n"
   ]
  },
  {
   "cell_type": "code",
   "execution_count": 8,
   "id": "db3e282e",
   "metadata": {},
   "outputs": [
    {
     "name": "stdout",
     "output_type": "stream",
     "text": [
      "Output generated\n"
     ]
    }
   ],
   "source": [
    "    print(\"Output generated\")"
   ]
  },
  {
   "cell_type": "code",
   "execution_count": null,
   "id": "e0478e6a",
   "metadata": {},
   "outputs": [],
   "source": []
  }
 ],
 "metadata": {
  "kernelspec": {
   "display_name": "Python 3 (ipykernel)",
   "language": "python",
   "name": "python3"
  },
  "language_info": {
   "codemirror_mode": {
    "name": "ipython",
    "version": 3
   },
   "file_extension": ".py",
   "mimetype": "text/x-python",
   "name": "python",
   "nbconvert_exporter": "python",
   "pygments_lexer": "ipython3",
   "version": "3.9.7"
  }
 },
 "nbformat": 4,
 "nbformat_minor": 5
}
