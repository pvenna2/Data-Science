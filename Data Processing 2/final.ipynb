{
 "cells": [
  {
   "cell_type": "code",
   "execution_count": 1,
   "id": "b86ff693",
   "metadata": {},
   "outputs": [],
   "source": [
    "import os\n",
    "\n",
    "# Setting Configurations - JAVA_HOME and SPARK_HOME Variable\n",
    "\n",
    "os.environ[\"JAVA_HOME\"] = r\"C:\\Program Files\\Java\\jdk-18\"\n",
    "os.environ[\"SPARK_HOME\"] = r\"C:\\Spark\\spark-3.2.1-bin-hadoop3.2\""
   ]
  },
  {
   "cell_type": "code",
   "execution_count": 2,
   "id": "f8a1769d",
   "metadata": {},
   "outputs": [],
   "source": [
    "# Import required modules\n",
    "\n",
    "from pyspark.sql import functions\n",
    "import pandas as pd"
   ]
  },
  {
   "cell_type": "markdown",
   "id": "85795a20",
   "metadata": {},
   "source": [
    "## Create a local Spark Session"
   ]
  },
  {
   "cell_type": "code",
   "execution_count": 3,
   "id": "f21870e9",
   "metadata": {},
   "outputs": [],
   "source": [
    "import findspark\n",
    "findspark.init()\n",
    "from pyspark.sql import SparkSession\n",
    "spark = SparkSession.builder.master(\"local[*]\").config(\"spark.driver.memory\", \"15g\").appName(\"SparkSession\").getOrCreate()"
   ]
  },
  {
   "cell_type": "code",
   "execution_count": 4,
   "id": "87e1544e",
   "metadata": {},
   "outputs": [],
   "source": [
    "#Enable Arrow-based columnar data transfers\n",
    "spark.conf.set(\"spark.sql.execution.arrow.enabled\", \"true\")"
   ]
  },
  {
   "cell_type": "markdown",
   "id": "5e10958b",
   "metadata": {},
   "source": [
    "## Spark DataFrame/SQL Transformations and Actions."
   ]
  },
  {
   "cell_type": "markdown",
   "id": "93211f84",
   "metadata": {},
   "source": [
    "## STEP 1"
   ]
  },
  {
   "cell_type": "code",
   "execution_count": 5,
   "id": "9148087d",
   "metadata": {},
   "outputs": [
    {
     "name": "stderr",
     "output_type": "stream",
     "text": [
      "C:\\Users\\ASUS\\anaconda3\\lib\\site-packages\\IPython\\core\\interactiveshell.py:3444: FutureWarning: The error_bad_lines argument has been deprecated and will be removed in a future version.\n",
      "\n",
      "\n",
      "  exec(code_obj, self.user_global_ns, self.user_ns)\n",
      "b'Skipping line 209619: expected 25 fields, saw 26\\nSkipping line 209620: expected 25 fields, saw 26\\n'\n"
     ]
    },
    {
     "data": {
      "text/html": [
       "<div>\n",
       "<style scoped>\n",
       "    .dataframe tbody tr th:only-of-type {\n",
       "        vertical-align: middle;\n",
       "    }\n",
       "\n",
       "    .dataframe tbody tr th {\n",
       "        vertical-align: top;\n",
       "    }\n",
       "\n",
       "    .dataframe thead th {\n",
       "        text-align: right;\n",
       "    }\n",
       "</style>\n",
       "<table border=\"1\" class=\"dataframe\">\n",
       "  <thead>\n",
       "    <tr style=\"text-align: right;\">\n",
       "      <th></th>\n",
       "      <th>id_str</th>\n",
       "      <th>tweet_created_at</th>\n",
       "      <th>user_screen_name</th>\n",
       "      <th>user_id_str</th>\n",
       "      <th>user_statuses_count</th>\n",
       "      <th>user_favourites_count</th>\n",
       "      <th>user_protected</th>\n",
       "      <th>user_listed_count</th>\n",
       "      <th>user_following</th>\n",
       "      <th>user_description</th>\n",
       "      <th>...</th>\n",
       "      <th>tweet_language</th>\n",
       "      <th>text_</th>\n",
       "      <th>favorite_count</th>\n",
       "      <th>favorited</th>\n",
       "      <th>in_reply_to_screen_name</th>\n",
       "      <th>in_reply_to_status_id_str</th>\n",
       "      <th>in_reply_to_user_id_str</th>\n",
       "      <th>retweet_count</th>\n",
       "      <th>retweeted</th>\n",
       "      <th>text</th>\n",
       "    </tr>\n",
       "  </thead>\n",
       "  <tbody>\n",
       "    <tr>\n",
       "      <th>0</th>\n",
       "      <td>'793270689780203520'</td>\n",
       "      <td>Tue Nov 01 01:57:25 +0000 2016</td>\n",
       "      <td>SeanEPanjab</td>\n",
       "      <td>143515471.0</td>\n",
       "      <td>51287</td>\n",
       "      <td>4079</td>\n",
       "      <td>False</td>\n",
       "      <td>74</td>\n",
       "      <td>False</td>\n",
       "      <td>Content marketer; Polyglot; Beard aficionado; ...</td>\n",
       "      <td>...</td>\n",
       "      <td>en</td>\n",
       "      <td>@AmazonHelp Can you please DM me? A product I ...</td>\n",
       "      <td>0</td>\n",
       "      <td>False</td>\n",
       "      <td>AmazonHelp</td>\n",
       "      <td>NaN</td>\n",
       "      <td>85741735.0</td>\n",
       "      <td>0</td>\n",
       "      <td>False</td>\n",
       "      <td>NaN</td>\n",
       "    </tr>\n",
       "    <tr>\n",
       "      <th>1</th>\n",
       "      <td>'793281386912354304'</td>\n",
       "      <td>Tue Nov 01 02:39:55 +0000 2016</td>\n",
       "      <td>AmazonHelp</td>\n",
       "      <td>85741735.0</td>\n",
       "      <td>2225450</td>\n",
       "      <td>11366</td>\n",
       "      <td>False</td>\n",
       "      <td>796</td>\n",
       "      <td>False</td>\n",
       "      <td>We answer Amazon support questions 7 days a we...</td>\n",
       "      <td>...</td>\n",
       "      <td>en</td>\n",
       "      <td>@SeanEPanjab I'm sorry, we're unable to DM you...</td>\n",
       "      <td>0</td>\n",
       "      <td>False</td>\n",
       "      <td>SeanEPanjab</td>\n",
       "      <td>7.932707e+17</td>\n",
       "      <td>143515471.0</td>\n",
       "      <td>0</td>\n",
       "      <td>False</td>\n",
       "      <td>NaN</td>\n",
       "    </tr>\n",
       "    <tr>\n",
       "      <th>2</th>\n",
       "      <td>'793501578766319616'</td>\n",
       "      <td>Tue Nov 01 17:14:53 +0000 2016</td>\n",
       "      <td>SeanEPanjab</td>\n",
       "      <td>143515471.0</td>\n",
       "      <td>51287</td>\n",
       "      <td>4079</td>\n",
       "      <td>False</td>\n",
       "      <td>74</td>\n",
       "      <td>False</td>\n",
       "      <td>Content marketer; Polyglot; Beard aficionado; ...</td>\n",
       "      <td>...</td>\n",
       "      <td>en</td>\n",
       "      <td>@AmazonHelp It was purchased on https://t.co/g...</td>\n",
       "      <td>0</td>\n",
       "      <td>False</td>\n",
       "      <td>AmazonHelp</td>\n",
       "      <td>7.932814e+17</td>\n",
       "      <td>85741735.0</td>\n",
       "      <td>0</td>\n",
       "      <td>False</td>\n",
       "      <td>@AmazonHelp It was purchased on https://t.co/g...</td>\n",
       "    </tr>\n",
       "    <tr>\n",
       "      <th>3</th>\n",
       "      <td>'793501657346682880'</td>\n",
       "      <td>Tue Nov 01 17:15:12 +0000 2016</td>\n",
       "      <td>SeanEPanjab</td>\n",
       "      <td>143515471.0</td>\n",
       "      <td>51287</td>\n",
       "      <td>4079</td>\n",
       "      <td>False</td>\n",
       "      <td>74</td>\n",
       "      <td>False</td>\n",
       "      <td>Content marketer; Polyglot; Beard aficionado; ...</td>\n",
       "      <td>...</td>\n",
       "      <td>en</td>\n",
       "      <td>@AmazonHelp I am following you now, if it help...</td>\n",
       "      <td>0</td>\n",
       "      <td>False</td>\n",
       "      <td>AmazonHelp</td>\n",
       "      <td>7.932814e+17</td>\n",
       "      <td>85741735.0</td>\n",
       "      <td>0</td>\n",
       "      <td>False</td>\n",
       "      <td>NaN</td>\n",
       "    </tr>\n",
       "    <tr>\n",
       "      <th>4</th>\n",
       "      <td>'793502854459879424'</td>\n",
       "      <td>Tue Nov 01 17:19:57 +0000 2016</td>\n",
       "      <td>AmazonHelp</td>\n",
       "      <td>85741735.0</td>\n",
       "      <td>2225450</td>\n",
       "      <td>11366</td>\n",
       "      <td>False</td>\n",
       "      <td>796</td>\n",
       "      <td>False</td>\n",
       "      <td>We answer Amazon support questions 7 days a we...</td>\n",
       "      <td>...</td>\n",
       "      <td>en</td>\n",
       "      <td>@SeanEPanjab Please give us a call/chat so we ...</td>\n",
       "      <td>0</td>\n",
       "      <td>False</td>\n",
       "      <td>SeanEPanjab</td>\n",
       "      <td>7.935016e+17</td>\n",
       "      <td>143515471.0</td>\n",
       "      <td>0</td>\n",
       "      <td>False</td>\n",
       "      <td>@SeanEPanjab Please give us a call/chat so we ...</td>\n",
       "    </tr>\n",
       "  </tbody>\n",
       "</table>\n",
       "<p>5 rows × 25 columns</p>\n",
       "</div>"
      ],
      "text/plain": [
       "                 id_str                tweet_created_at user_screen_name  \\\n",
       "0  '793270689780203520'  Tue Nov 01 01:57:25 +0000 2016      SeanEPanjab   \n",
       "1  '793281386912354304'  Tue Nov 01 02:39:55 +0000 2016       AmazonHelp   \n",
       "2  '793501578766319616'  Tue Nov 01 17:14:53 +0000 2016      SeanEPanjab   \n",
       "3  '793501657346682880'  Tue Nov 01 17:15:12 +0000 2016      SeanEPanjab   \n",
       "4  '793502854459879424'  Tue Nov 01 17:19:57 +0000 2016       AmazonHelp   \n",
       "\n",
       "   user_id_str  user_statuses_count  user_favourites_count  user_protected  \\\n",
       "0  143515471.0                51287                   4079           False   \n",
       "1   85741735.0              2225450                  11366           False   \n",
       "2  143515471.0                51287                   4079           False   \n",
       "3  143515471.0                51287                   4079           False   \n",
       "4   85741735.0              2225450                  11366           False   \n",
       "\n",
       "   user_listed_count  user_following  \\\n",
       "0                 74           False   \n",
       "1                796           False   \n",
       "2                 74           False   \n",
       "3                 74           False   \n",
       "4                796           False   \n",
       "\n",
       "                                    user_description  ... tweet_language  \\\n",
       "0  Content marketer; Polyglot; Beard aficionado; ...  ...             en   \n",
       "1  We answer Amazon support questions 7 days a we...  ...             en   \n",
       "2  Content marketer; Polyglot; Beard aficionado; ...  ...             en   \n",
       "3  Content marketer; Polyglot; Beard aficionado; ...  ...             en   \n",
       "4  We answer Amazon support questions 7 days a we...  ...             en   \n",
       "\n",
       "                                               text_  favorite_count  \\\n",
       "0  @AmazonHelp Can you please DM me? A product I ...               0   \n",
       "1  @SeanEPanjab I'm sorry, we're unable to DM you...               0   \n",
       "2  @AmazonHelp It was purchased on https://t.co/g...               0   \n",
       "3  @AmazonHelp I am following you now, if it help...               0   \n",
       "4  @SeanEPanjab Please give us a call/chat so we ...               0   \n",
       "\n",
       "   favorited in_reply_to_screen_name in_reply_to_status_id_str  \\\n",
       "0      False              AmazonHelp                       NaN   \n",
       "1      False             SeanEPanjab              7.932707e+17   \n",
       "2      False              AmazonHelp              7.932814e+17   \n",
       "3      False              AmazonHelp              7.932814e+17   \n",
       "4      False             SeanEPanjab              7.935016e+17   \n",
       "\n",
       "  in_reply_to_user_id_str  retweet_count  retweeted  \\\n",
       "0              85741735.0              0      False   \n",
       "1             143515471.0              0      False   \n",
       "2              85741735.0              0      False   \n",
       "3              85741735.0              0      False   \n",
       "4             143515471.0              0      False   \n",
       "\n",
       "                                                text  \n",
       "0                                                NaN  \n",
       "1                                                NaN  \n",
       "2  @AmazonHelp It was purchased on https://t.co/g...  \n",
       "3                                                NaN  \n",
       "4  @SeanEPanjab Please give us a call/chat so we ...  \n",
       "\n",
       "[5 rows x 25 columns]"
      ]
     },
     "execution_count": 5,
     "metadata": {},
     "output_type": "execute_result"
    }
   ],
   "source": [
    "# Reading the dataset using spark\n",
    "\n",
    "data = pd.read_csv('Amazon_Responded_Oct05.csv', sep=\",\", error_bad_lines=False)\n",
    "data.head()"
   ]
  },
  {
   "cell_type": "code",
   "execution_count": 6,
   "id": "bc786e1c",
   "metadata": {},
   "outputs": [],
   "source": [
    "#Then convert Pandas Dataframe to Spark Dataframe\n",
    "data = spark.createDataFrame(data)"
   ]
  },
  {
   "cell_type": "code",
   "execution_count": 7,
   "id": "f745afec",
   "metadata": {},
   "outputs": [
    {
     "data": {
      "text/plain": [
       "[Row(tweet_created_at='Tue Nov 01 01:57:25 +0000 2016', user_screen_name='SeanEPanjab', user_id_str=143515471.0),\n",
       " Row(tweet_created_at='Tue Nov 01 02:39:55 +0000 2016', user_screen_name='AmazonHelp', user_id_str=85741735.0),\n",
       " Row(tweet_created_at='Tue Nov 01 17:14:53 +0000 2016', user_screen_name='SeanEPanjab', user_id_str=143515471.0),\n",
       " Row(tweet_created_at='Tue Nov 01 17:15:12 +0000 2016', user_screen_name='SeanEPanjab', user_id_str=143515471.0),\n",
       " Row(tweet_created_at='Tue Nov 01 17:19:57 +0000 2016', user_screen_name='AmazonHelp', user_id_str=85741735.0)]"
      ]
     },
     "execution_count": 7,
     "metadata": {},
     "output_type": "execute_result"
    }
   ],
   "source": [
    "# Select the needed columns from the dataset\n",
    "\n",
    "df = data.select('tweet_created_at','user_screen_name', 'user_id_str')\n",
    "df.head(5)"
   ]
  },
  {
   "cell_type": "code",
   "execution_count": 8,
   "id": "2e21746a",
   "metadata": {},
   "outputs": [
    {
     "name": "stdout",
     "output_type": "stream",
     "text": [
      "+----------------+----------------+------------+\n",
      "|tweet_created_at|user_screen_name| user_id_str|\n",
      "+----------------+----------------+------------+\n",
      "|     Nov 01 2016|     SeanEPanjab|1.43515471E8|\n",
      "|     Nov 01 2016|      AmazonHelp| 8.5741735E7|\n",
      "|     Nov 01 2016|     SeanEPanjab|1.43515471E8|\n",
      "|     Nov 01 2016|     SeanEPanjab|1.43515471E8|\n",
      "|     Nov 01 2016|      AmazonHelp| 8.5741735E7|\n",
      "|     Nov 01 2016|      AmazonHelp| 8.5741735E7|\n",
      "|     Nov 01 2016|     SeanEPanjab|1.43515471E8|\n",
      "|     Nov 01 2016|     SeanEPanjab|1.43515471E8|\n",
      "|     Nov 01 2016|      AmazonHelp| 8.5741735E7|\n",
      "|     Nov 01 2016|   aakashwangnoo| 7.1457972E7|\n",
      "+----------------+----------------+------------+\n",
      "only showing top 10 rows\n",
      "\n"
     ]
    },
    {
     "data": {
      "text/plain": [
       "378132"
      ]
     },
     "execution_count": 8,
     "metadata": {},
     "output_type": "execute_result"
    }
   ],
   "source": [
    "# Creating a dataframe with formatted date (MONTH DAY YEAR)\n",
    "\n",
    "dataframe_with_formatted_date = df.rdd.map(lambda x:\n",
    "    (x.tweet_created_at.split(\" \")[1] + \" \" + x.tweet_created_at.split(\" \")[2] + \" \" + x.tweet_created_at.split(\" \")[-1],\n",
    "     x.user_screen_name,\n",
    "     x.user_id_str\n",
    "    ))\n",
    "\n",
    "dataframe_with_formatted_date = dataframe_with_formatted_date.toDF(['tweet_created_at','user_screen_name', 'user_id_str'])\n",
    "dataframe_with_formatted_date.show(10)\n",
    "dataframe_with_formatted_date.count()"
   ]
  },
  {
   "cell_type": "code",
   "execution_count": 9,
   "id": "12530e60",
   "metadata": {},
   "outputs": [
    {
     "name": "stdout",
     "output_type": "stream",
     "text": [
      "+----------------+--------------------+\n",
      "|user_screen_name|         user_id_str|\n",
      "+----------------+--------------------+\n",
      "|       sundevesh|         2.0443112E8|\n",
      "|   anishsangamam|        1.40738682E8|\n",
      "|   adit_morzaria|        5.86301042E8|\n",
      "|        cocobobi|        3.00813035E8|\n",
      "|       neerajap3|        1.60073361E8|\n",
      "|   pagetbrewster|8.273753192083005...|\n",
      "| RachelWhisker87|        3.55860475E8|\n",
      "|   OctavioDelano|       2.347968828E9|\n",
      "|       bala43212|         3.8803772E7|\n",
      "|      vishal2323|          9.631293E7|\n",
      "|   TechyFarooqui|       3.006076339E9|\n",
      "|        TCMuffin|         3.5591749E7|\n",
      "|          MtnrMS|       3.309102108E9|\n",
      "|  martinbrossman|          1.411963E7|\n",
      "|      chickenb00|         1.6193077E7|\n",
      "|  rishabgundecha|       1.227418134E9|\n",
      "|      Kar4change|8.160374434681978...|\n",
      "|          azkite|         3.9689052E8|\n",
      "|         RCausey|         3.7534186E7|\n",
      "|       sanjanind|         6.6622722E7|\n",
      "+----------------+--------------------+\n",
      "only showing top 20 rows\n",
      "\n"
     ]
    },
    {
     "data": {
      "text/plain": [
       "593"
      ]
     },
     "execution_count": 9,
     "metadata": {},
     "output_type": "execute_result"
    }
   ],
   "source": [
    "# Group the dataframe by user_screen_name and then find the user names which have alteast posted tweets in 5 different days.\n",
    "# Then we can find daily_active_users\n",
    "\n",
    "dataframe_with_formatted_date.createOrReplaceTempView(\"test\")\n",
    "daily_active_users = spark.sql(\"select user_screen_name, user_id_str from test group by user_screen_name, user_id_str having COUNT (DISTINCT tweet_created_at) > 4\")\n",
    "daily_active_users.show()\n",
    "daily_active_users.count()"
   ]
  },
  {
   "cell_type": "code",
   "execution_count": 10,
   "id": "d703e443",
   "metadata": {},
   "outputs": [],
   "source": [
    "# Writing daily_active_users dataframe to csv file\n",
    "\n",
    "daily_active_users.toPandas().to_csv('daily_active_users.csv', index=False)"
   ]
  },
  {
   "cell_type": "markdown",
   "id": "37d9f415",
   "metadata": {},
   "source": [
    "## STEP 2"
   ]
  },
  {
   "cell_type": "code",
   "execution_count": 11,
   "id": "356596e2",
   "metadata": {},
   "outputs": [],
   "source": [
    "# Reading the text file and then convert to a dataframe by giving column name as user_id_str\n",
    "\n",
    "experiment_data = spark.read.csv('experiment.txt', header=False)\n",
    "experiment_df = experiment_data.toDF('user_id_str')"
   ]
  },
  {
   "cell_type": "code",
   "execution_count": 12,
   "id": "59c66738",
   "metadata": {},
   "outputs": [
    {
     "name": "stdout",
     "output_type": "stream",
     "text": [
      "+-----------+\n",
      "|user_id_str|\n",
      "+-----------+\n",
      "|  143515471|\n",
      "|   85741735|\n",
      "|   71457972|\n",
      "| 2908108256|\n",
      "|  106799492|\n",
      "|   59156981|\n",
      "|  902137872|\n",
      "|  110354554|\n",
      "|   97424433|\n",
      "|   62364020|\n",
      "| 2706101936|\n",
      "|    5654472|\n",
      "|  145579921|\n",
      "| 2502172122|\n",
      "|  243716471|\n",
      "| 2610379644|\n",
      "|  123138418|\n",
      "|  257376764|\n",
      "|  269145593|\n",
      "|  370711133|\n",
      "+-----------+\n",
      "only showing top 20 rows\n",
      "\n"
     ]
    }
   ],
   "source": [
    "experiment_df.show()"
   ]
  },
  {
   "cell_type": "code",
   "execution_count": 13,
   "id": "cc0f8f20",
   "metadata": {},
   "outputs": [],
   "source": [
    "# Left join experiment_df dataframe with daily_active_users dataframe in order find the records which are exist in both dataframes.\n",
    "# Here from left join, all the user_id_str in the experiment_df dataframe is joining with user_id_str in the daily_active_users dataframe.\n",
    "# If not found it will apply as null value\n",
    "\n",
    "experiment_df = experiment_df.join(daily_active_users, [\"user_id_str\"], \"left\")"
   ]
  },
  {
   "cell_type": "code",
   "execution_count": 14,
   "id": "05938cd5",
   "metadata": {},
   "outputs": [
    {
     "name": "stdout",
     "output_type": "stream",
     "text": [
      "+-----------+----------------+\n",
      "|user_id_str|user_screen_name|\n",
      "+-----------+----------------+\n",
      "|   62364020|            null|\n",
      "|   71457972|            null|\n",
      "|   97424433|            null|\n",
      "| 2502172122|            null|\n",
      "|  257376764|            null|\n",
      "|  145579921|            null|\n",
      "|  123138418|            null|\n",
      "|   59156981|            null|\n",
      "|  106799492|            null|\n",
      "| 2610379644|            null|\n",
      "| 2908108256|            null|\n",
      "|  110354554| praveen_pandey_|\n",
      "|  269145593|            null|\n",
      "| 1510968974|            null|\n",
      "|  243716471|            null|\n",
      "|  370711133|            null|\n",
      "|    5654472|            null|\n",
      "|  902137872|     mybharatraj|\n",
      "| 2706101936|            null|\n",
      "|   85741735|      AmazonHelp|\n",
      "+-----------+----------------+\n",
      "only showing top 20 rows\n",
      "\n"
     ]
    }
   ],
   "source": [
    "experiment_df.show()"
   ]
  },
  {
   "cell_type": "code",
   "execution_count": 15,
   "id": "98a3b0ea",
   "metadata": {},
   "outputs": [
    {
     "name": "stdout",
     "output_type": "stream",
     "text": [
      "+------------------+--------------+\n",
      "|       user_id_str|whether_active|\n",
      "+------------------+--------------+\n",
      "|          89107116|            no|\n",
      "|          89633357|            no|\n",
      "|         585782554|            no|\n",
      "|763375765253652480|            no|\n",
      "|793640186504581120|            no|\n",
      "|         283168534|            no|\n",
      "|           6927562|            no|\n",
      "|         160326340|            no|\n",
      "|          20561973|            no|\n",
      "|         283608923|            no|\n",
      "+------------------+--------------+\n",
      "only showing top 10 rows\n",
      "\n"
     ]
    },
    {
     "data": {
      "text/plain": [
       "5000"
      ]
     },
     "execution_count": 15,
     "metadata": {},
     "output_type": "execute_result"
    }
   ],
   "source": [
    "# Here I mapped the experiment_df dataframe in order to modify the user_id_str column to whether_active\n",
    "# Here I defined a method to modify the whether_active column based on the user_screen_name. If user_screen_name is null then\n",
    "# that user is not active. Otherwise that user is active.\n",
    "\n",
    "def check_whether_active(x):\n",
    "    if x[\"user_screen_name\"]:\n",
    "        return \"yes\"\n",
    "    else:\n",
    "        return \"no\"\n",
    "\n",
    "experiment_user = experiment_df.rdd.map(lambda x:\n",
    "    (x.user_id_str,\n",
    "     check_whether_active(x)\n",
    "    ))\n",
    "\n",
    "experiment_user = experiment_user.toDF(['user_id_str', 'whether_active'])\n",
    "experiment_user.show(10)\n",
    "experiment_user.count()"
   ]
  },
  {
   "cell_type": "code",
   "execution_count": 16,
   "id": "44022549",
   "metadata": {},
   "outputs": [
    {
     "name": "stdout",
     "output_type": "stream",
     "text": [
      "Percentage of Active Count : 2.42\n"
     ]
    }
   ],
   "source": [
    "# Calculate Percentage of Active Count\n",
    "\n",
    "total_count = experiment_user.count()\n",
    "active_count = experiment_user.filter(experiment_user['whether_active'] == 'yes').count()\n",
    "\n",
    "active_percentage_count = (active_count/total_count) * 100\n",
    "print (\"Percentage of Active Count :\", active_percentage_count)"
   ]
  },
  {
   "cell_type": "code",
   "execution_count": 17,
   "id": "feab9895",
   "metadata": {},
   "outputs": [],
   "source": [
    "# Writing experiment_user dataframe to csv file\n",
    "\n",
    "experiment_user.toPandas().to_csv('experiment_user.csv', index=False)"
   ]
  },
  {
   "cell_type": "markdown",
   "id": "646350da",
   "metadata": {},
   "source": [
    "## STEP 3"
   ]
  },
  {
   "cell_type": "code",
   "execution_count": 18,
   "id": "c3831f5a",
   "metadata": {},
   "outputs": [
    {
     "name": "stdout",
     "output_type": "stream",
     "text": [
      "+-------------+----+--------------+----------------+\n",
      "|  user_id_str|info|whether_active|user_screen_name|\n",
      "+-------------+----+--------------+----------------+\n",
      "|   6.236402E7|   F|          null|            null|\n",
      "|2.706101936E9|   M|          null|            null|\n",
      "|    5654472.0|   F|          null|            null|\n",
      "| 1.45579921E8|   F|          null|            null|\n",
      "|2.502172122E9|   M|          null|            null|\n",
      "| 2.43716471E8|   F|          null|            null|\n",
      "|2.610379644E9|   M|          null|            null|\n",
      "| 1.23138418E8|   M|          null|            null|\n",
      "| 2.57376764E8|   F|          null|            null|\n",
      "| 2.69145593E8|   M|          null|            null|\n",
      "| 3.70711133E8|   F|          null|            null|\n",
      "|1.510968974E9|   F|          null|            null|\n",
      "|3.526380922E9|   M|          null|            null|\n",
      "| 1.63413904E8|   F|          null|            null|\n",
      "|  1.6980347E7|   M|          null|            null|\n",
      "|1.209614366E9|   M|          null|            null|\n",
      "| 4.47433286E8|   F|          null|            null|\n",
      "|1.970607968E9|   M|          null|            null|\n",
      "|3.285473358E9|   F|          null|            null|\n",
      "|1.112166661E9|   F|          null|            null|\n",
      "+-------------+----+--------------+----------------+\n",
      "only showing top 20 rows\n",
      "\n"
     ]
    }
   ],
   "source": [
    "# Read the final_experiment.csv and create a dataframe\n",
    "\n",
    "final_experiment = pd.read_csv(\"final_experiment.csv\")\n",
    "final_experiment = spark.createDataFrame(final_experiment)\n",
    "\n",
    "final_experiment.show()"
   ]
  },
  {
   "cell_type": "code",
   "execution_count": 19,
   "id": "0a0e48fa",
   "metadata": {},
   "outputs": [],
   "source": [
    "# Drop these 2 columns since they are empty and we need to join with other 2 dataframes\n",
    "\n",
    "columns_to_drop = ['whether_active', 'user_screen_name']\n",
    "final_experiment = final_experiment.drop(*columns_to_drop)"
   ]
  },
  {
   "cell_type": "code",
   "execution_count": 20,
   "id": "85f510e0",
   "metadata": {},
   "outputs": [
    {
     "name": "stdout",
     "output_type": "stream",
     "text": [
      "+-------------+----+--------------+----------------+\n",
      "|  user_id_str|info|whether_active|user_screen_name|\n",
      "+-------------+----+--------------+----------------+\n",
      "|   6.236402E7|   F|            no|            null|\n",
      "|3.526380922E9|   M|            no|            null|\n",
      "|3.285473358E9|   F|           yes|    iwritegarima|\n",
      "|1.209614366E9|   M|            no|            null|\n",
      "|2.502172122E9|   M|            no|            null|\n",
      "| 2.57376764E8|   F|            no|            null|\n",
      "| 1.45579921E8|   F|            no|            null|\n",
      "| 1.23138418E8|   M|            no|            null|\n",
      "|2.610379644E9|   M|            no|            null|\n",
      "| 4.22175328E8|   M|            no|            null|\n",
      "| 1.63413904E8|   F|            no|            null|\n",
      "|  1.6980347E7|   M|            no|            null|\n",
      "| 2.69145593E8|   M|            no|            null|\n",
      "|1.510968974E9|   F|            no|            null|\n",
      "|1.970607968E9|   M|            no|            null|\n",
      "| 2.43716471E8|   F|            no|            null|\n",
      "| 4.47433286E8|   F|            no|            null|\n",
      "| 3.70711133E8|   F|            no|            null|\n",
      "|    5654472.0|   F|            no|            null|\n",
      "|2.706101936E9|   M|            no|            null|\n",
      "+-------------+----+--------------+----------------+\n",
      "only showing top 20 rows\n",
      "\n"
     ]
    }
   ],
   "source": [
    "# First left join final_experiment dataframe with experiment_user dataframe in order to join all user_id_str \n",
    "# values in final_experiment with experiment_user where not available values in experiment_user will get null.\n",
    "\n",
    "# Then left join above result dataframe with daily_active_users dataframe in order to join all user_id_str \n",
    "# values in above result with daily_active_users where not available values in daily_active_users will get null.\n",
    "\n",
    "final_experiment = final_experiment.join(experiment_user, [\"user_id_str\"], \"left\").join(daily_active_users, [\"user_id_str\"], \"left\")\n",
    "final_experiment.show()"
   ]
  },
  {
   "cell_type": "code",
   "execution_count": 21,
   "id": "1f6511f3",
   "metadata": {},
   "outputs": [
    {
     "name": "stdout",
     "output_type": "stream",
     "text": [
      "+-------------+----+--------------+----------------+\n",
      "|  user_id_str|info|whether_active|user_screen_name|\n",
      "+-------------+----+--------------+----------------+\n",
      "|  8.9107116E7|   F|            no|       Not found|\n",
      "|  8.9633357E7|   M|            no|       Not found|\n",
      "| 5.85782554E8|   M|            no|       Not found|\n",
      "|3.923649083E9|   M|            no|       Not found|\n",
      "|  4.1337472E7|   M|            no|       Not found|\n",
      "|2.316449398E9|   F|            no|       Not found|\n",
      "|   6.236402E7|   F|            no|       Not found|\n",
      "| 4.18871874E8|   M|            no|       Not found|\n",
      "|  8.1329096E7|   M|            no|       Not found|\n",
      "|3.526380922E9|   M|            no|       Not found|\n",
      "+-------------+----+--------------+----------------+\n",
      "only showing top 10 rows\n",
      "\n"
     ]
    },
    {
     "data": {
      "text/plain": [
       "4500"
      ]
     },
     "execution_count": 21,
     "metadata": {},
     "output_type": "execute_result"
    }
   ],
   "source": [
    "# Here I mapped the final_experiment dataframe in order to modify the user_screen_name column.\n",
    "# Here I defined a method to modify the user_screen_name column based on the user_screen_name. If user_screen_name is null then\n",
    "# that user is Not found. Otherwise I'm returning the user_screen_name.\n",
    "\n",
    "def check_whether_user_screen_name_is_null(x):\n",
    "    if x[\"user_screen_name\"]:\n",
    "        return x[\"user_screen_name\"]\n",
    "    else:\n",
    "        return \"Not found\"\n",
    "\n",
    "final_experiment = final_experiment.rdd.map(lambda x:\n",
    "    (x.user_id_str,\n",
    "     x.info,\n",
    "     x.whether_active,\n",
    "     check_whether_user_screen_name_is_null(x)\n",
    "    ))\n",
    "final_experiment = final_experiment.toDF(['user_id_str', 'info', 'whether_active', 'user_screen_name'])\n",
    "final_experiment.show(10)\n",
    "final_experiment.count()"
   ]
  },
  {
   "cell_type": "code",
   "execution_count": 22,
   "id": "51d6ad37",
   "metadata": {},
   "outputs": [],
   "source": [
    "# Writing final_experiment dataframe to csv file\n",
    "\n",
    "final_experiment.toPandas().to_csv('final_experiment.csv', index=False)"
   ]
  }
 ],
 "metadata": {
  "kernelspec": {
   "display_name": "Python 3 (ipykernel)",
   "language": "python",
   "name": "python3"
  },
  "language_info": {
   "codemirror_mode": {
    "name": "ipython",
    "version": 3
   },
   "file_extension": ".py",
   "mimetype": "text/x-python",
   "name": "python",
   "nbconvert_exporter": "python",
   "pygments_lexer": "ipython3",
   "version": "3.9.7"
  }
 },
 "nbformat": 4,
 "nbformat_minor": 5
}
